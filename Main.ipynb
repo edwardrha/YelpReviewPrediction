{
 "cells": [
  {
   "cell_type": "code",
   "execution_count": 1,
   "metadata": {
    "collapsed": true,
    "slideshow": {
     "slide_type": "skip"
    }
   },
   "outputs": [],
   "source": [
    "# -*- coding: utf-8 -*-\n",
    "from src import Main\n",
    "from src.preprocessing import Preprocessing\n",
    "from src import Word2VecModel\n",
    "from src import ClusterModel\n",
    "\n",
    "import matplotlib.pyplot as plt\n",
    "import matplotlib.cm as cm\n",
    "import numpy as np\n",
    "import pandas as pd\n",
    "import csv\n",
    "\n",
    "%matplotlib inline"
   ]
  },
  {
   "cell_type": "code",
   "execution_count": 2,
   "metadata": {
    "collapsed": true,
    "slideshow": {
     "slide_type": "skip"
    }
   },
   "outputs": [],
   "source": [
    "df_bus = pd.read_json('dataset/business.json', lines=True)"
   ]
  },
  {
   "cell_type": "code",
   "execution_count": 3,
   "metadata": {
    "collapsed": true,
    "slideshow": {
     "slide_type": "skip"
    }
   },
   "outputs": [],
   "source": [
    "def Get_cluster_labels(size=20):\n",
    "    thefile = open('dataset/300ktop_category_' + str(size) + '.txt', 'r')\n",
    "    reader = csv.reader(thefile)\n",
    "    labels = [] # This will store the labels\n",
    "    for row in reader:\n",
    "        labels.append(row[0])\n",
    "    thefile.close()\n",
    "    labels = np.array(labels)\n",
    "    return labels\n",
    "\n",
    "def Get_data():\n",
    "    df = pd.read_json('dataset/processed_restaurant_reviews_1.json')\n",
    "    data = df.text.apply(' '.join)[:300000]\n",
    "    del(df)\n",
    "    return data\n",
    "\n",
    "def predictTopic(InputString, countvec, lda):\n",
    "    processed_review = Preprocessing(InputString, 1)\n",
    "    cv = vec.transform([' '.join(processed_review)])\n",
    "    proba = lda.transform(cv)[0]\n",
    "    first = np.argsort(lda.transform(cv)[0])[::-1][0]\n",
    "    second = np.argsort(lda.transform(cv)[0])[::-1][1]\n",
    "    return (first, proba[first]), (second, proba[second])\n",
    "\n",
    "def getHiddenRatings(business_id, df):\n",
    "    reviews = df[df['business_id'] == business_id]\n",
    "    business_name = df_bus.loc[df_bus['business_id']==business_id, 'name'].asobject[0]\n",
    "    average = reviews.stars.mean()\n",
    "    reviews.groupby('labels')\n",
    "    service_quality = reviews[(reviews['labels'] == '0')|(reviews['labels'] == '4')|(reviews['labels'] == '19')].stars.mean()\n",
    "    food_quality = reviews[(reviews['labels'] == '7')|(reviews['labels'] == '14')].stars.mean()\n",
    "    price_quality = reviews[(reviews['labels'] == '17')].stars.mean()\n",
    "    print \"Restaurant: \" + business_name\n",
    "    print \"Total # of reviews: \" + str(reviews.shape[0])\n",
    "    print \"Overall Average: \" + str(average) \n",
    "    print \"Service Average: \" + str(service_quality)\n",
    "    print \"Food Average: \" + str(food_quality)\n",
    "    print \"Pricing Average: \" + str(price_quality)\n",
    "#     return average\n",
    "    "
   ]
  },
  {
   "cell_type": "code",
   "execution_count": 4,
   "metadata": {
    "collapsed": true,
    "slideshow": {
     "slide_type": "skip"
    }
   },
   "outputs": [],
   "source": [
    "word2vec_model = Word2VecModel.load('models/word2vec_model50')\n",
    "df = pd.read_json('dataset/processed_restaurant_reviews_1.json')\n",
    "df = df[:300000]\n",
    "data = Get_data()\n",
    "labels = Get_cluster_labels(20)\n",
    "df['labels'] = labels\n",
    "lda = ClusterModel.load('models/lda_20.pkl')\n",
    "vec = ClusterModel.load('models/countvectorizer.pkl')\n",
    "feature_names = ClusterModel.load('models/tf_feature_names.pkl')\n",
    "by_topic = df.groupby('labels').mean()\n",
    "w2vSimilar = word2vec_model.wv.most_similar"
   ]
  },
  {
   "cell_type": "code",
   "execution_count": 14,
   "metadata": {},
   "outputs": [],
   "source": [
    "df_bus = df_bus[[('Restaurants' in categories) for categories in df_bus['categories']]]"
   ]
  },
  {
   "cell_type": "code",
   "execution_count": 16,
   "metadata": {},
   "outputs": [
    {
     "data": {
      "text/html": [
       "<div>\n",
       "<style>\n",
       "    .dataframe thead tr:only-child th {\n",
       "        text-align: right;\n",
       "    }\n",
       "\n",
       "    .dataframe thead th {\n",
       "        text-align: left;\n",
       "    }\n",
       "\n",
       "    .dataframe tbody tr th {\n",
       "        vertical-align: top;\n",
       "    }\n",
       "</style>\n",
       "<table border=\"1\" class=\"dataframe\">\n",
       "  <thead>\n",
       "    <tr style=\"text-align: right;\">\n",
       "      <th></th>\n",
       "      <th>address</th>\n",
       "      <th>attributes</th>\n",
       "      <th>business_id</th>\n",
       "      <th>categories</th>\n",
       "      <th>city</th>\n",
       "      <th>hours</th>\n",
       "      <th>is_open</th>\n",
       "      <th>latitude</th>\n",
       "      <th>longitude</th>\n",
       "      <th>name</th>\n",
       "      <th>neighborhood</th>\n",
       "      <th>postal_code</th>\n",
       "      <th>review_count</th>\n",
       "      <th>stars</th>\n",
       "      <th>state</th>\n",
       "    </tr>\n",
       "  </thead>\n",
       "  <tbody>\n",
       "    <tr>\n",
       "      <th>4</th>\n",
       "      <td>581 Howe Ave</td>\n",
       "      <td>{u'Alcohol': u'full_bar', u'HasTV': True, u'No...</td>\n",
       "      <td>PfOCPjBrlQAnz__NXj9h_w</td>\n",
       "      <td>[American (New), Nightlife, Bars, Sandwiches, ...</td>\n",
       "      <td>Cuyahoga Falls</td>\n",
       "      <td>{u'Monday': u'11:00-1:00', u'Tuesday': u'11:00...</td>\n",
       "      <td>1</td>\n",
       "      <td>41.119535</td>\n",
       "      <td>-81.475690</td>\n",
       "      <td>Brick House Tavern + Tap</td>\n",
       "      <td></td>\n",
       "      <td>44221</td>\n",
       "      <td>116</td>\n",
       "      <td>3.5</td>\n",
       "      <td>OH</td>\n",
       "    </tr>\n",
       "    <tr>\n",
       "      <th>5</th>\n",
       "      <td>Richterstr. 11</td>\n",
       "      <td>{u'GoodForMeal': {u'dessert': False, u'latenig...</td>\n",
       "      <td>o9eMRCWt5PkpLDE0gOPtcQ</td>\n",
       "      <td>[Italian, Restaurants]</td>\n",
       "      <td>Stuttgart</td>\n",
       "      <td>{u'Monday': u'18:00-0:00', u'Tuesday': u'18:00...</td>\n",
       "      <td>1</td>\n",
       "      <td>48.727200</td>\n",
       "      <td>9.147950</td>\n",
       "      <td>Messina</td>\n",
       "      <td></td>\n",
       "      <td>70567</td>\n",
       "      <td>5</td>\n",
       "      <td>4.0</td>\n",
       "      <td>BW</td>\n",
       "    </tr>\n",
       "    <tr>\n",
       "      <th>10</th>\n",
       "      <td>737 West Pike St</td>\n",
       "      <td>{u'GoodForMeal': {u'dessert': False, u'latenig...</td>\n",
       "      <td>XOSRcvtaKc_Q5H1SAzN20A</td>\n",
       "      <td>[Breakfast &amp; Brunch, Gluten-Free, Coffee &amp; Tea...</td>\n",
       "      <td>Houston</td>\n",
       "      <td>{}</td>\n",
       "      <td>0</td>\n",
       "      <td>40.241548</td>\n",
       "      <td>-80.212815</td>\n",
       "      <td>East Coast Coffee</td>\n",
       "      <td></td>\n",
       "      <td>15342</td>\n",
       "      <td>3</td>\n",
       "      <td>4.5</td>\n",
       "      <td>PA</td>\n",
       "    </tr>\n",
       "    <tr>\n",
       "      <th>14</th>\n",
       "      <td>600 E 4th St</td>\n",
       "      <td>{u'GoodForMeal': {u'dessert': False, u'latenig...</td>\n",
       "      <td>fNMVV_ZX7CJSDWQGdOM8Nw</td>\n",
       "      <td>[Restaurants, American (Traditional)]</td>\n",
       "      <td>Charlotte</td>\n",
       "      <td>{u'Tuesday': u'7:00-15:00', u'Friday': u'7:00-...</td>\n",
       "      <td>1</td>\n",
       "      <td>35.221647</td>\n",
       "      <td>-80.839345</td>\n",
       "      <td>Showmars Government Center</td>\n",
       "      <td>Uptown</td>\n",
       "      <td>28202</td>\n",
       "      <td>7</td>\n",
       "      <td>3.5</td>\n",
       "      <td>NC</td>\n",
       "    </tr>\n",
       "    <tr>\n",
       "      <th>15</th>\n",
       "      <td>2459 Yonge St</td>\n",
       "      <td>{u'GoodForMeal': {u'dessert': False, u'latenig...</td>\n",
       "      <td>l09JfMeQ6ynYs5MCJtrcmQ</td>\n",
       "      <td>[Italian, French, Restaurants]</td>\n",
       "      <td>Toronto</td>\n",
       "      <td>{u'Monday': u'9:00-22:00', u'Tuesday': u'9:00-...</td>\n",
       "      <td>0</td>\n",
       "      <td>43.711399</td>\n",
       "      <td>-79.399339</td>\n",
       "      <td>Alize Catering</td>\n",
       "      <td>Yonge and Eglinton</td>\n",
       "      <td>M4P 2H6</td>\n",
       "      <td>12</td>\n",
       "      <td>3.0</td>\n",
       "      <td>ON</td>\n",
       "    </tr>\n",
       "  </tbody>\n",
       "</table>\n",
       "</div>"
      ],
      "text/plain": [
       "             address                                         attributes  \\\n",
       "4       581 Howe Ave  {u'Alcohol': u'full_bar', u'HasTV': True, u'No...   \n",
       "5     Richterstr. 11  {u'GoodForMeal': {u'dessert': False, u'latenig...   \n",
       "10  737 West Pike St  {u'GoodForMeal': {u'dessert': False, u'latenig...   \n",
       "14      600 E 4th St  {u'GoodForMeal': {u'dessert': False, u'latenig...   \n",
       "15     2459 Yonge St  {u'GoodForMeal': {u'dessert': False, u'latenig...   \n",
       "\n",
       "               business_id                                         categories  \\\n",
       "4   PfOCPjBrlQAnz__NXj9h_w  [American (New), Nightlife, Bars, Sandwiches, ...   \n",
       "5   o9eMRCWt5PkpLDE0gOPtcQ                             [Italian, Restaurants]   \n",
       "10  XOSRcvtaKc_Q5H1SAzN20A  [Breakfast & Brunch, Gluten-Free, Coffee & Tea...   \n",
       "14  fNMVV_ZX7CJSDWQGdOM8Nw              [Restaurants, American (Traditional)]   \n",
       "15  l09JfMeQ6ynYs5MCJtrcmQ                     [Italian, French, Restaurants]   \n",
       "\n",
       "              city                                              hours  \\\n",
       "4   Cuyahoga Falls  {u'Monday': u'11:00-1:00', u'Tuesday': u'11:00...   \n",
       "5        Stuttgart  {u'Monday': u'18:00-0:00', u'Tuesday': u'18:00...   \n",
       "10         Houston                                                 {}   \n",
       "14       Charlotte  {u'Tuesday': u'7:00-15:00', u'Friday': u'7:00-...   \n",
       "15         Toronto  {u'Monday': u'9:00-22:00', u'Tuesday': u'9:00-...   \n",
       "\n",
       "    is_open   latitude  longitude                        name  \\\n",
       "4         1  41.119535 -81.475690    Brick House Tavern + Tap   \n",
       "5         1  48.727200   9.147950                     Messina   \n",
       "10        0  40.241548 -80.212815           East Coast Coffee   \n",
       "14        1  35.221647 -80.839345  Showmars Government Center   \n",
       "15        0  43.711399 -79.399339              Alize Catering   \n",
       "\n",
       "          neighborhood postal_code  review_count  stars state  \n",
       "4                            44221           116    3.5    OH  \n",
       "5                            70567             5    4.0    BW  \n",
       "10                           15342             3    4.5    PA  \n",
       "14              Uptown       28202             7    3.5    NC  \n",
       "15  Yonge and Eglinton     M4P 2H6            12    3.0    ON  "
      ]
     },
     "execution_count": 16,
     "metadata": {},
     "output_type": "execute_result"
    }
   ],
   "source": [
    "df_bus.head()"
   ]
  },
  {
   "cell_type": "code",
   "execution_count": 5,
   "metadata": {
    "collapsed": true,
    "slideshow": {
     "slide_type": "skip"
    }
   },
   "outputs": [],
   "source": [
    "# Display top words from each topic\n",
    "# ClusterModel.display_topics(lda, feature_names, 30)"
   ]
  },
  {
   "cell_type": "code",
   "execution_count": 6,
   "metadata": {
    "collapsed": true,
    "slideshow": {
     "slide_type": "skip"
    }
   },
   "outputs": [],
   "source": [
    "# Create word clouds at '/images'\n",
    "Main.Make_word_cloud(data, labels)"
   ]
  },
  {
   "cell_type": "code",
   "execution_count": 7,
   "metadata": {
    "collapsed": true,
    "slideshow": {
     "slide_type": "skip"
    }
   },
   "outputs": [],
   "source": [
    "allData = []\n",
    "sizes = [10, 15, 20, 25, 30, 40]\n",
    "for i in range(6):\n",
    "    thefile = open('dataset/300ktop_category_' + str(sizes[i]) + '.txt', 'r')\n",
    "    reader = csv.reader(thefile)\n",
    "    labels = np.zeros(40) # This will store the labels\n",
    "    for row in reader:\n",
    "        labels[int(row[0])]+=1\n",
    "    thefile.close()\n",
    "    allData.append(labels.copy())\n",
    "ldaClusterChart = pd.DataFrame(allData, index = sizes).T"
   ]
  },
  {
   "cell_type": "code",
   "execution_count": 17,
   "metadata": {
    "slideshow": {
     "slide_type": "skip"
    }
   },
   "outputs": [
    {
     "data": {
      "text/plain": [
       "((0, 0.38162292057044694), (7, 0.31524944509640945))"
      ]
     },
     "execution_count": 17,
     "metadata": {},
     "output_type": "execute_result"
    }
   ],
   "source": [
    "review = u\"Meh is right. I saw the lines out the door. I saw the hype online and I'm sorely disappointed. We came here on a Thursday at around 6pm. Luckily there was no wait. For an appetizer we ordered the takoyaki. I'm not sure if the texture is supposed to be that way, but the exterior was crispy, but the inside was like mush. I was not expecting that. I didn't like the texture at all. For the main course I ordered the pot belly ramen with a chasu bowl, while my other two guests got the miso ramen. All of us agreed that the pot belly ramen was better than the miso. The broth was rich in flavor, more so than the miso ramen. The miso one was just spicy in the initial sip, but was not consistent throughout. I also didn't like the noodles. It was too skinny and didn't hold the flavor of the broth very well. If you like the Vietnamese entree thit kho (braised pork belly), you'll like it. Tasted just like that. The place is a little overpriced for the portion too. I was hoping for it to be good so I didn't have to go all the way to Orenchi. Nope, I'll not be coming back\"\n",
    "review = u\"I don't know how I've never reviewed kickin crab lol?! Definitely the best place for cajun/seafood IMO. I especially like this place in comparison to places like boiling crab because I feel like the service is a lot better, the sauce is tastier, and I just feel like the seafood is a lot more fresh which is super important! I tend to go for one of the combo deals since I'm usually with a group and we can all share it for a good deal. GARLIC NOODLES! Oh my god the best I've ever had. You have to order garlic noodles when you come, there's no exceptions.... The only thing that sucks would be the parking. If you come during peak dinner hours...or actually any hours...be prepared to be circling the lot a few times. The spaces are really small too. Good luck!\"\n",
    "review = u\"milkshake\"\n",
    "review = u\"I came here last Saturday for brunch with my husband and MIL to celebrate my birthday, and I was SUPER excited about it! I have dined here many times, just never for brunch and the food and service have always been fantastic. This visit was a COMPLETELY different story. We sat down on the patio since it was a beautiful day and I love the relaxing environment of the outdoors during brunch. Our server came to our table, his name was Ellis (I could be spelling this wrong.) Right off the bat, he was straight up RUDE. He seemed very annoyed at the fact that he was at work, or was extremely hungover. We walked up to the table and we ended up greeting him before he greeted us, because he just looked at us and gave us a look like the fuck do you people want? It was kinda strange but we tried to brush it off. He then said so it's somebodys birthday here? then pointed at my MIL. She laughed and said no, its hers! and pointed to me. He rolled his eyes and said great. And walked away. I couldnt tell at this point if he thought he was being funny or ironic as the asshole waiter but it was getting old fast.\"\n",
    "review = u\"I've been here a couple times now and have to say this is the BEST taqueria I've been to. Everything is always extremely fresh and DELICIOUS! My go to order is the tacos. I usually Carne Asada, Pollo, and Al Pastor. The meats are always seasoned perfectly and SOOO tender. The taqueria is very clean and they have a great salsa bar that also has fresh fruit.\"\n",
    "review = u\"fun\"\n",
    "review = u\"Melanie is a treasure that must be protected at all costs. Seriously though, she was super-cool and funny and gave us some pretty fun and adventurous recommendations that we would otherwise not have tried. Really attentive, she even helped us cook our food - it felt like we were getting an experience that other restaurant-goers were not getting. Like v.i.p. status. That's how awesome she is. Food was really good. Excellent recommendations. Next time I come here, I'm just going to tell them to surprise me. I like the music here. Will definitely come back.\"\n",
    "predictTopic(review, vec, lda)"
   ]
  },
  {
   "cell_type": "code",
   "execution_count": 21,
   "metadata": {
    "slideshow": {
     "slide_type": "skip"
    }
   },
   "outputs": [
    {
     "data": {
      "text/plain": [
       "[(u'machaca', 0.7345311641693115),\n",
       " (u'posole', 0.7244584560394287),\n",
       " (u'pozole', 0.7185253500938416),\n",
       " (u'burro', 0.7165212631225586),\n",
       " (u'chimichanga', 0.7074536681175232),\n",
       " (u'filibertos', 0.7052419781684875),\n",
       " (u'queso', 0.7044840455055237),\n",
       " (u'carnitas', 0.7036306262016296),\n",
       " (u'sopes', 0.7010722160339355),\n",
       " (u'chimi', 0.6951133012771606)]"
      ]
     },
     "execution_count": 21,
     "metadata": {},
     "output_type": "execute_result"
    }
   ],
   "source": [
    "# Ramen - Japanese + Mexican = Mexican Food\n",
    "w2vSimilar(positive=['ramen', 'mexican'], \n",
    "           negative=['japanese'])"
   ]
  },
  {
   "cell_type": "code",
   "execution_count": 19,
   "metadata": {
    "collapsed": true
   },
   "outputs": [],
   "source": []
  },
  {
   "cell_type": "markdown",
   "metadata": {
    "slideshow": {
     "slide_type": "slide"
    }
   },
   "source": [
    "# Yelp Reviews Topic Extraction\n",
    "### By InHo Rha and Terry Shih\n",
    "#### Group #6\n",
    "<br>\n",
    "##### [https://github.com/edwardrha/YelpReviewPrediction](https://github.com/edwardrha/YelpReviewPrediction)"
   ]
  },
  {
   "cell_type": "markdown",
   "metadata": {
    "slideshow": {
     "slide_type": "slide"
    }
   },
   "source": [
    "\n",
    "# Introduction"
   ]
  },
  {
   "cell_type": "markdown",
   "metadata": {
    "slideshow": {
     "slide_type": "fragment"
    }
   },
   "source": [
    "### Data\n",
    " * Yelp Dataset Challenge - 5.2 million reviews from Yelp\n",
    " * 3.4 million of which are restaurant reviews\n",
    " * We used 300k reviews due to time and hardware limitation"
   ]
  },
  {
   "cell_type": "markdown",
   "metadata": {
    "slideshow": {
     "slide_type": "fragment"
    }
   },
   "source": [
    "### Unsupervised Topic Extraction\n",
    " * Latent Dirichlet allocation\n",
    " * Examniation of extracted clusters and manual labeling\n",
    " * Attempted use of Word2Vec"
   ]
  },
  {
   "cell_type": "markdown",
   "metadata": {
    "slideshow": {
     "slide_type": "fragment"
    }
   },
   "source": [
    "### Why?\n",
    " * Learn to gain insight into unlabeled text data\n",
    " * Find the categorical ratings of restaurants\n",
    " * Picking up trends in the text data"
   ]
  },
  {
   "cell_type": "markdown",
   "metadata": {
    "slideshow": {
     "slide_type": "slide"
    }
   },
   "source": [
    "## Sample Data"
   ]
  },
  {
   "cell_type": "code",
   "execution_count": 79,
   "metadata": {
    "slideshow": {
     "slide_type": "-"
    }
   },
   "outputs": [
    {
     "data": {
      "text/html": [
       "<div>\n",
       "<style>\n",
       "    .dataframe thead tr:only-child th {\n",
       "        text-align: right;\n",
       "    }\n",
       "\n",
       "    .dataframe thead th {\n",
       "        text-align: left;\n",
       "    }\n",
       "\n",
       "    .dataframe tbody tr th {\n",
       "        vertical-align: top;\n",
       "    }\n",
       "</style>\n",
       "<table border=\"1\" class=\"dataframe\">\n",
       "  <thead>\n",
       "    <tr style=\"text-align: right;\">\n",
       "      <th></th>\n",
       "      <th>business_id</th>\n",
       "      <th>date</th>\n",
       "      <th>review_id</th>\n",
       "      <th>stars</th>\n",
       "      <th>text</th>\n",
       "      <th>user_id</th>\n",
       "      <th>labels</th>\n",
       "    </tr>\n",
       "  </thead>\n",
       "  <tbody>\n",
       "    <tr>\n",
       "      <th>0</th>\n",
       "      <td>0W4lkclzZThpx3V65bVgig</td>\n",
       "      <td>2016-05-28</td>\n",
       "      <td>v0i_UHJMo_hPBq9bxWvW4w</td>\n",
       "      <td>5</td>\n",
       "      <td>[love, staff, love, meat, love, place, prepare...</td>\n",
       "      <td>bv2nCi5Qv5vroFiqKGopiw</td>\n",
       "      <td>0</td>\n",
       "    </tr>\n",
       "  </tbody>\n",
       "</table>\n",
       "</div>"
      ],
      "text/plain": [
       "              business_id       date               review_id  stars  \\\n",
       "0  0W4lkclzZThpx3V65bVgig 2016-05-28  v0i_UHJMo_hPBq9bxWvW4w      5   \n",
       "\n",
       "                                                text                 user_id  \\\n",
       "0  [love, staff, love, meat, love, place, prepare...  bv2nCi5Qv5vroFiqKGopiw   \n",
       "\n",
       "  labels  \n",
       "0      0  "
      ]
     },
     "execution_count": 79,
     "metadata": {},
     "output_type": "execute_result"
    }
   ],
   "source": [
    "# We removed stop words and lemmatized the text data \n",
    "# and then converted them into tokens\n",
    "df.head(1)"
   ]
  },
  {
   "cell_type": "markdown",
   "metadata": {
    "slideshow": {
     "slide_type": "slide"
    }
   },
   "source": [
    "# Latent Dirichlet allocation"
   ]
  },
  {
   "cell_type": "markdown",
   "metadata": {
    "slideshow": {
     "slide_type": "-"
    }
   },
   "source": [
    "### What is it?\n",
    " * An unsupervised clustering algorithm\n",
    " * No label needed, only 'k'"
   ]
  },
  {
   "cell_type": "markdown",
   "metadata": {
    "slideshow": {
     "slide_type": "-"
    }
   },
   "source": [
    "### Why LDA?\n",
    " * Allows us to extract multiple subtopics from a corpus\n",
    " * Promising tool for topic modeling"
   ]
  },
  {
   "cell_type": "code",
   "execution_count": 10,
   "metadata": {
    "slideshow": {
     "slide_type": "slide"
    }
   },
   "outputs": [
    {
     "data": {
      "text/html": [
       "<div>\n",
       "<style>\n",
       "    .dataframe thead tr:only-child th {\n",
       "        text-align: right;\n",
       "    }\n",
       "\n",
       "    .dataframe thead th {\n",
       "        text-align: left;\n",
       "    }\n",
       "\n",
       "    .dataframe tbody tr th {\n",
       "        vertical-align: top;\n",
       "    }\n",
       "</style>\n",
       "<table border=\"1\" class=\"dataframe\">\n",
       "  <thead>\n",
       "    <tr style=\"text-align: right;\">\n",
       "      <th></th>\n",
       "      <th>10</th>\n",
       "      <th>15</th>\n",
       "      <th>20</th>\n",
       "      <th>25</th>\n",
       "      <th>30</th>\n",
       "      <th>40</th>\n",
       "    </tr>\n",
       "  </thead>\n",
       "  <tbody>\n",
       "    <tr>\n",
       "      <th>0</th>\n",
       "      <td>92986.0</td>\n",
       "      <td>108219.0</td>\n",
       "      <td>87285.0</td>\n",
       "      <td>88150.0</td>\n",
       "      <td>46595.0</td>\n",
       "      <td>16348.0</td>\n",
       "    </tr>\n",
       "    <tr>\n",
       "      <th>1</th>\n",
       "      <td>24975.0</td>\n",
       "      <td>2907.0</td>\n",
       "      <td>18060.0</td>\n",
       "      <td>6044.0</td>\n",
       "      <td>3844.0</td>\n",
       "      <td>10463.0</td>\n",
       "    </tr>\n",
       "    <tr>\n",
       "      <th>2</th>\n",
       "      <td>2125.0</td>\n",
       "      <td>134.0</td>\n",
       "      <td>1533.0</td>\n",
       "      <td>19.0</td>\n",
       "      <td>8.0</td>\n",
       "      <td>1861.0</td>\n",
       "    </tr>\n",
       "    <tr>\n",
       "      <th>3</th>\n",
       "      <td>25187.0</td>\n",
       "      <td>1753.0</td>\n",
       "      <td>6372.0</td>\n",
       "      <td>6892.0</td>\n",
       "      <td>2078.0</td>\n",
       "      <td>139.0</td>\n",
       "    </tr>\n",
       "    <tr>\n",
       "      <th>4</th>\n",
       "      <td>51113.0</td>\n",
       "      <td>1807.0</td>\n",
       "      <td>21489.0</td>\n",
       "      <td>10840.0</td>\n",
       "      <td>338.0</td>\n",
       "      <td>46.0</td>\n",
       "    </tr>\n",
       "    <tr>\n",
       "      <th>5</th>\n",
       "      <td>30190.0</td>\n",
       "      <td>27101.0</td>\n",
       "      <td>23170.0</td>\n",
       "      <td>9465.0</td>\n",
       "      <td>310.0</td>\n",
       "      <td>173.0</td>\n",
       "    </tr>\n",
       "    <tr>\n",
       "      <th>6</th>\n",
       "      <td>2567.0</td>\n",
       "      <td>927.0</td>\n",
       "      <td>424.0</td>\n",
       "      <td>1191.0</td>\n",
       "      <td>22.0</td>\n",
       "      <td>33.0</td>\n",
       "    </tr>\n",
       "    <tr>\n",
       "      <th>7</th>\n",
       "      <td>52421.0</td>\n",
       "      <td>70328.0</td>\n",
       "      <td>85854.0</td>\n",
       "      <td>52506.0</td>\n",
       "      <td>13008.0</td>\n",
       "      <td>44394.0</td>\n",
       "    </tr>\n",
       "    <tr>\n",
       "      <th>8</th>\n",
       "      <td>2630.0</td>\n",
       "      <td>133.0</td>\n",
       "      <td>48.0</td>\n",
       "      <td>17.0</td>\n",
       "      <td>19.0</td>\n",
       "      <td>40.0</td>\n",
       "    </tr>\n",
       "    <tr>\n",
       "      <th>9</th>\n",
       "      <td>15806.0</td>\n",
       "      <td>32521.0</td>\n",
       "      <td>13513.0</td>\n",
       "      <td>2128.0</td>\n",
       "      <td>3812.0</td>\n",
       "      <td>8563.0</td>\n",
       "    </tr>\n",
       "    <tr>\n",
       "      <th>10</th>\n",
       "      <td>0.0</td>\n",
       "      <td>4146.0</td>\n",
       "      <td>43.0</td>\n",
       "      <td>7.0</td>\n",
       "      <td>7.0</td>\n",
       "      <td>338.0</td>\n",
       "    </tr>\n",
       "    <tr>\n",
       "      <th>11</th>\n",
       "      <td>0.0</td>\n",
       "      <td>6576.0</td>\n",
       "      <td>91.0</td>\n",
       "      <td>712.0</td>\n",
       "      <td>2132.0</td>\n",
       "      <td>222.0</td>\n",
       "    </tr>\n",
       "    <tr>\n",
       "      <th>12</th>\n",
       "      <td>0.0</td>\n",
       "      <td>4454.0</td>\n",
       "      <td>721.0</td>\n",
       "      <td>338.0</td>\n",
       "      <td>924.0</td>\n",
       "      <td>156.0</td>\n",
       "    </tr>\n",
       "    <tr>\n",
       "      <th>13</th>\n",
       "      <td>0.0</td>\n",
       "      <td>38666.0</td>\n",
       "      <td>10033.0</td>\n",
       "      <td>74294.0</td>\n",
       "      <td>59214.0</td>\n",
       "      <td>83.0</td>\n",
       "    </tr>\n",
       "    <tr>\n",
       "      <th>14</th>\n",
       "      <td>0.0</td>\n",
       "      <td>328.0</td>\n",
       "      <td>2961.0</td>\n",
       "      <td>5683.0</td>\n",
       "      <td>781.0</td>\n",
       "      <td>202.0</td>\n",
       "    </tr>\n",
       "    <tr>\n",
       "      <th>15</th>\n",
       "      <td>0.0</td>\n",
       "      <td>0.0</td>\n",
       "      <td>1992.0</td>\n",
       "      <td>243.0</td>\n",
       "      <td>82.0</td>\n",
       "      <td>177.0</td>\n",
       "    </tr>\n",
       "    <tr>\n",
       "      <th>16</th>\n",
       "      <td>0.0</td>\n",
       "      <td>0.0</td>\n",
       "      <td>68.0</td>\n",
       "      <td>1319.0</td>\n",
       "      <td>1901.0</td>\n",
       "      <td>70.0</td>\n",
       "    </tr>\n",
       "    <tr>\n",
       "      <th>17</th>\n",
       "      <td>0.0</td>\n",
       "      <td>0.0</td>\n",
       "      <td>16661.0</td>\n",
       "      <td>768.0</td>\n",
       "      <td>2227.0</td>\n",
       "      <td>10185.0</td>\n",
       "    </tr>\n",
       "    <tr>\n",
       "      <th>18</th>\n",
       "      <td>0.0</td>\n",
       "      <td>0.0</td>\n",
       "      <td>3572.0</td>\n",
       "      <td>20591.0</td>\n",
       "      <td>924.0</td>\n",
       "      <td>2432.0</td>\n",
       "    </tr>\n",
       "    <tr>\n",
       "      <th>19</th>\n",
       "      <td>0.0</td>\n",
       "      <td>0.0</td>\n",
       "      <td>6110.0</td>\n",
       "      <td>120.0</td>\n",
       "      <td>5762.0</td>\n",
       "      <td>566.0</td>\n",
       "    </tr>\n",
       "    <tr>\n",
       "      <th>20</th>\n",
       "      <td>0.0</td>\n",
       "      <td>0.0</td>\n",
       "      <td>0.0</td>\n",
       "      <td>521.0</td>\n",
       "      <td>6278.0</td>\n",
       "      <td>6189.0</td>\n",
       "    </tr>\n",
       "    <tr>\n",
       "      <th>21</th>\n",
       "      <td>0.0</td>\n",
       "      <td>0.0</td>\n",
       "      <td>0.0</td>\n",
       "      <td>342.0</td>\n",
       "      <td>12.0</td>\n",
       "      <td>10.0</td>\n",
       "    </tr>\n",
       "    <tr>\n",
       "      <th>22</th>\n",
       "      <td>0.0</td>\n",
       "      <td>0.0</td>\n",
       "      <td>0.0</td>\n",
       "      <td>1976.0</td>\n",
       "      <td>10.0</td>\n",
       "      <td>2.0</td>\n",
       "    </tr>\n",
       "    <tr>\n",
       "      <th>23</th>\n",
       "      <td>0.0</td>\n",
       "      <td>0.0</td>\n",
       "      <td>0.0</td>\n",
       "      <td>15765.0</td>\n",
       "      <td>5326.0</td>\n",
       "      <td>8183.0</td>\n",
       "    </tr>\n",
       "    <tr>\n",
       "      <th>24</th>\n",
       "      <td>0.0</td>\n",
       "      <td>0.0</td>\n",
       "      <td>0.0</td>\n",
       "      <td>69.0</td>\n",
       "      <td>27896.0</td>\n",
       "      <td>105.0</td>\n",
       "    </tr>\n",
       "    <tr>\n",
       "      <th>25</th>\n",
       "      <td>0.0</td>\n",
       "      <td>0.0</td>\n",
       "      <td>0.0</td>\n",
       "      <td>0.0</td>\n",
       "      <td>2315.0</td>\n",
       "      <td>1007.0</td>\n",
       "    </tr>\n",
       "    <tr>\n",
       "      <th>26</th>\n",
       "      <td>0.0</td>\n",
       "      <td>0.0</td>\n",
       "      <td>0.0</td>\n",
       "      <td>0.0</td>\n",
       "      <td>112036.0</td>\n",
       "      <td>119961.0</td>\n",
       "    </tr>\n",
       "    <tr>\n",
       "      <th>27</th>\n",
       "      <td>0.0</td>\n",
       "      <td>0.0</td>\n",
       "      <td>0.0</td>\n",
       "      <td>0.0</td>\n",
       "      <td>74.0</td>\n",
       "      <td>8.0</td>\n",
       "    </tr>\n",
       "    <tr>\n",
       "      <th>28</th>\n",
       "      <td>0.0</td>\n",
       "      <td>0.0</td>\n",
       "      <td>0.0</td>\n",
       "      <td>0.0</td>\n",
       "      <td>1994.0</td>\n",
       "      <td>14.0</td>\n",
       "    </tr>\n",
       "    <tr>\n",
       "      <th>29</th>\n",
       "      <td>0.0</td>\n",
       "      <td>0.0</td>\n",
       "      <td>0.0</td>\n",
       "      <td>0.0</td>\n",
       "      <td>71.0</td>\n",
       "      <td>32.0</td>\n",
       "    </tr>\n",
       "    <tr>\n",
       "      <th>30</th>\n",
       "      <td>0.0</td>\n",
       "      <td>0.0</td>\n",
       "      <td>0.0</td>\n",
       "      <td>0.0</td>\n",
       "      <td>0.0</td>\n",
       "      <td>52.0</td>\n",
       "    </tr>\n",
       "    <tr>\n",
       "      <th>31</th>\n",
       "      <td>0.0</td>\n",
       "      <td>0.0</td>\n",
       "      <td>0.0</td>\n",
       "      <td>0.0</td>\n",
       "      <td>0.0</td>\n",
       "      <td>10.0</td>\n",
       "    </tr>\n",
       "    <tr>\n",
       "      <th>32</th>\n",
       "      <td>0.0</td>\n",
       "      <td>0.0</td>\n",
       "      <td>0.0</td>\n",
       "      <td>0.0</td>\n",
       "      <td>0.0</td>\n",
       "      <td>5270.0</td>\n",
       "    </tr>\n",
       "    <tr>\n",
       "      <th>33</th>\n",
       "      <td>0.0</td>\n",
       "      <td>0.0</td>\n",
       "      <td>0.0</td>\n",
       "      <td>0.0</td>\n",
       "      <td>0.0</td>\n",
       "      <td>59692.0</td>\n",
       "    </tr>\n",
       "    <tr>\n",
       "      <th>34</th>\n",
       "      <td>0.0</td>\n",
       "      <td>0.0</td>\n",
       "      <td>0.0</td>\n",
       "      <td>0.0</td>\n",
       "      <td>0.0</td>\n",
       "      <td>2680.0</td>\n",
       "    </tr>\n",
       "    <tr>\n",
       "      <th>35</th>\n",
       "      <td>0.0</td>\n",
       "      <td>0.0</td>\n",
       "      <td>0.0</td>\n",
       "      <td>0.0</td>\n",
       "      <td>0.0</td>\n",
       "      <td>97.0</td>\n",
       "    </tr>\n",
       "    <tr>\n",
       "      <th>36</th>\n",
       "      <td>0.0</td>\n",
       "      <td>0.0</td>\n",
       "      <td>0.0</td>\n",
       "      <td>0.0</td>\n",
       "      <td>0.0</td>\n",
       "      <td>73.0</td>\n",
       "    </tr>\n",
       "    <tr>\n",
       "      <th>37</th>\n",
       "      <td>0.0</td>\n",
       "      <td>0.0</td>\n",
       "      <td>0.0</td>\n",
       "      <td>0.0</td>\n",
       "      <td>0.0</td>\n",
       "      <td>15.0</td>\n",
       "    </tr>\n",
       "    <tr>\n",
       "      <th>38</th>\n",
       "      <td>0.0</td>\n",
       "      <td>0.0</td>\n",
       "      <td>0.0</td>\n",
       "      <td>0.0</td>\n",
       "      <td>0.0</td>\n",
       "      <td>105.0</td>\n",
       "    </tr>\n",
       "    <tr>\n",
       "      <th>39</th>\n",
       "      <td>0.0</td>\n",
       "      <td>0.0</td>\n",
       "      <td>0.0</td>\n",
       "      <td>0.0</td>\n",
       "      <td>0.0</td>\n",
       "      <td>4.0</td>\n",
       "    </tr>\n",
       "  </tbody>\n",
       "</table>\n",
       "</div>"
      ],
      "text/plain": [
       "         10        15       20       25        30        40\n",
       "0   92986.0  108219.0  87285.0  88150.0   46595.0   16348.0\n",
       "1   24975.0    2907.0  18060.0   6044.0    3844.0   10463.0\n",
       "2    2125.0     134.0   1533.0     19.0       8.0    1861.0\n",
       "3   25187.0    1753.0   6372.0   6892.0    2078.0     139.0\n",
       "4   51113.0    1807.0  21489.0  10840.0     338.0      46.0\n",
       "5   30190.0   27101.0  23170.0   9465.0     310.0     173.0\n",
       "6    2567.0     927.0    424.0   1191.0      22.0      33.0\n",
       "7   52421.0   70328.0  85854.0  52506.0   13008.0   44394.0\n",
       "8    2630.0     133.0     48.0     17.0      19.0      40.0\n",
       "9   15806.0   32521.0  13513.0   2128.0    3812.0    8563.0\n",
       "10      0.0    4146.0     43.0      7.0       7.0     338.0\n",
       "11      0.0    6576.0     91.0    712.0    2132.0     222.0\n",
       "12      0.0    4454.0    721.0    338.0     924.0     156.0\n",
       "13      0.0   38666.0  10033.0  74294.0   59214.0      83.0\n",
       "14      0.0     328.0   2961.0   5683.0     781.0     202.0\n",
       "15      0.0       0.0   1992.0    243.0      82.0     177.0\n",
       "16      0.0       0.0     68.0   1319.0    1901.0      70.0\n",
       "17      0.0       0.0  16661.0    768.0    2227.0   10185.0\n",
       "18      0.0       0.0   3572.0  20591.0     924.0    2432.0\n",
       "19      0.0       0.0   6110.0    120.0    5762.0     566.0\n",
       "20      0.0       0.0      0.0    521.0    6278.0    6189.0\n",
       "21      0.0       0.0      0.0    342.0      12.0      10.0\n",
       "22      0.0       0.0      0.0   1976.0      10.0       2.0\n",
       "23      0.0       0.0      0.0  15765.0    5326.0    8183.0\n",
       "24      0.0       0.0      0.0     69.0   27896.0     105.0\n",
       "25      0.0       0.0      0.0      0.0    2315.0    1007.0\n",
       "26      0.0       0.0      0.0      0.0  112036.0  119961.0\n",
       "27      0.0       0.0      0.0      0.0      74.0       8.0\n",
       "28      0.0       0.0      0.0      0.0    1994.0      14.0\n",
       "29      0.0       0.0      0.0      0.0      71.0      32.0\n",
       "30      0.0       0.0      0.0      0.0       0.0      52.0\n",
       "31      0.0       0.0      0.0      0.0       0.0      10.0\n",
       "32      0.0       0.0      0.0      0.0       0.0    5270.0\n",
       "33      0.0       0.0      0.0      0.0       0.0   59692.0\n",
       "34      0.0       0.0      0.0      0.0       0.0    2680.0\n",
       "35      0.0       0.0      0.0      0.0       0.0      97.0\n",
       "36      0.0       0.0      0.0      0.0       0.0      73.0\n",
       "37      0.0       0.0      0.0      0.0       0.0      15.0\n",
       "38      0.0       0.0      0.0      0.0       0.0     105.0\n",
       "39      0.0       0.0      0.0      0.0       0.0       4.0"
      ]
     },
     "execution_count": 10,
     "metadata": {},
     "output_type": "execute_result"
    }
   ],
   "source": [
    "ldaClusterChart"
   ]
  },
  {
   "cell_type": "markdown",
   "metadata": {
    "slideshow": {
     "slide_type": "slide"
    }
   },
   "source": [
    "# Manually Labeled Topic Clusters (K = 20)\n",
    "| Topic         | Label           | Topic         | Label           | \n",
    "| :------------ |:--------------- | :------------ |:--------------- | \n",
    "| 00            | Service Quality | 10            | Arizona Pasty   | \n",
    "| 01            | Dinner          | 11            | Unsure          | \n",
    "| 02            | Bars            | 12            | Fancy/Steakhouse| \n",
    "| 03            | Breakfast/Cafe  | 13            | Night life      | \n",
    "| 04            | Bad Service     | 14            | Positive meat   | \n",
    "| 05            | Comfort/Fastfood| 15            | French          | \n",
    "| 06            | Montreal Sandwiches  | 16       | Shake shacks/Hotdogs     | \n",
    "| 07            | Food Quality    | 17            | Pricing/Mexican | \n",
    "| 08            | Drive Thru      | 18            | Desserts      | \n",
    "| 09            | Asian           | 19            | Ambience      | \n",
    "\n",
    "\n",
    "\n",
    "\n",
    "\n",
    "\n",
    "\n",
    "\n",
    "\n",
    "\n",
    "\n"
   ]
  },
  {
   "cell_type": "markdown",
   "metadata": {
    "slideshow": {
     "slide_type": "subslide"
    }
   },
   "source": [
    "## Cluster 3 - Breakfast/Cafe\n",
    "![alt text](images/wordcloud_3.png)"
   ]
  },
  {
   "cell_type": "markdown",
   "metadata": {
    "slideshow": {
     "slide_type": "subslide"
    }
   },
   "source": [
    "## Cluster 9 - Asian\n",
    "![alt text](images/wordcloud_9.png)"
   ]
  },
  {
   "cell_type": "markdown",
   "metadata": {
    "slideshow": {
     "slide_type": "slide"
    }
   },
   "source": [
    "# Examples"
   ]
  },
  {
   "cell_type": "code",
   "execution_count": 11,
   "metadata": {
    "slideshow": {
     "slide_type": "subslide"
    }
   },
   "outputs": [
    {
     "data": {
      "text/plain": [
       "((9, 0.51335032357099275), (7, 0.16339487225456326))"
      ]
     },
     "execution_count": 11,
     "metadata": {},
     "output_type": "execute_result"
    }
   ],
   "source": [
    "review = u\"The ramen came out quickly and the broth was FANTASTIC. I'm a broth person who enjoys her noodles, but the broth has to hold its own. Theirs does! I got pork ramen and regretted nothing.\"\n",
    "predictTopic(review, vec, lda)"
   ]
  },
  {
   "cell_type": "markdown",
   "metadata": {
    "slideshow": {
     "slide_type": "-"
    }
   },
   "source": [
    "| Topic         | Label           | Topic         | Label           | \n",
    "| :------------ |:--------------- | :------------ |:--------------- | \n",
    "| 00            | Service Quality | 10            | Arizona Pasty   | \n",
    "| 01            | Dinner          | 11            | Unsure          | \n",
    "| 02            | Bars            | 12            | Fancy/Steakhouse| \n",
    "| 03            | Breakfast/Cafe  | 13            | Night life      | \n",
    "| 04            | Bad Service     | 14            | Positive meat   | \n",
    "| 05            | Comfort/Fastfood| 15            | French          | \n",
    "| 06            | Montreal Sandwiches  | 16       | Shake shacks/Hotdogs     | \n",
    "| 07            | Food Quality    | 17            | Pricing/Mexican | \n",
    "| 08            | Drive Thru      | 18            | Desserts      | \n",
    "| 09            | Asian           | 19            | Ambience      | \n",
    "\n",
    "\n",
    "\n",
    "\n",
    "\n",
    "\n",
    "\n",
    "\n",
    "\n",
    "\n"
   ]
  },
  {
   "cell_type": "code",
   "execution_count": 12,
   "metadata": {
    "slideshow": {
     "slide_type": "subslide"
    }
   },
   "outputs": [
    {
     "data": {
      "text/plain": [
       "((4, 0.84166666352868491), (0, 0.0083333358824793612))"
      ]
     },
     "execution_count": 12,
     "metadata": {},
     "output_type": "execute_result"
    }
   ],
   "source": [
    "review = u\"Horrible restaurant. Never coming back.\"\n",
    "predictTopic(review, vec, lda)"
   ]
  },
  {
   "cell_type": "markdown",
   "metadata": {
    "slideshow": {
     "slide_type": "-"
    }
   },
   "source": [
    "| Topic         | Label           | Topic         | Label           | \n",
    "| :------------ |:--------------- | :------------ |:--------------- | \n",
    "| 00            | Service Quality | 10            | Arizona Pasty   | \n",
    "| 01            | Dinner          | 11            | Unsure          | \n",
    "| 02            | Bars            | 12            | Fancy/Steakhouse| \n",
    "| 03            | Breakfast/Cafe  | 13            | Night life      | \n",
    "| 04            | Bad Service     | 14            | Positive meat   | \n",
    "| 05            | Comfort/Fastfood| 15            | French          | \n",
    "| 06            | Montreal Sandwiches  | 16       | Shake shacks/Hotdogs     | \n",
    "| 07            | Food Quality    | 17            | Pricing/Mexican | \n",
    "| 08            | Drive Thru      | 18            | Desserts      | \n",
    "| 09            | Asian           | 19            | Ambience      | \n",
    "\n",
    "\n",
    "\n",
    "\n",
    "\n",
    "\n",
    "\n",
    "\n",
    "\n",
    "\n"
   ]
  },
  {
   "cell_type": "code",
   "execution_count": 13,
   "metadata": {
    "slideshow": {
     "slide_type": "subslide"
    }
   },
   "outputs": [
    {
     "data": {
      "text/plain": [
       "((0, 0.57205798662973839), (17, 0.39044201299950482))"
      ]
     },
     "execution_count": 13,
     "metadata": {},
     "output_type": "execute_result"
    }
   ],
   "source": [
    "review = u\"Hands down one of the best Mexican places to eat at. Everything from the amazing burritos, to the nachos, tacos and gorditas- are amazing. Everything is made fresh and quick. They have a large variety within the menu so I highly recommend this place\"\n",
    "predictTopic(review, vec, lda)"
   ]
  },
  {
   "cell_type": "markdown",
   "metadata": {
    "slideshow": {
     "slide_type": "-"
    }
   },
   "source": [
    "| Topic         | Label           | Topic         | Label           | \n",
    "| :------------ |:--------------- | :------------ |:--------------- | \n",
    "| 00            | Service Quality | 10            | Arizona Pasty   | \n",
    "| 01            | Dinner          | 11            | Unsure          | \n",
    "| 02            | Bars            | 12            | Fancy/Steakhouse| \n",
    "| 03            | Breakfast/Cafe  | 13            | Night life      | \n",
    "| 04            | Bad Service     | 14            | Positive meat   | \n",
    "| 05            | Comfort/Fastfood| 15            | French          | \n",
    "| 06            | Montreal Sandwiches  | 16       | Shake shacks/Hotdogs     | \n",
    "| 07            | Food Quality    | 17            | Pricing/Mexican | \n",
    "| 08            | Drive Thru      | 18            | Desserts      | \n",
    "| 09            | Asian           | 19            | Ambience      | \n",
    "\n",
    "\n",
    "\n",
    "\n",
    "\n",
    "\n",
    "\n",
    "\n",
    "\n"
   ]
  },
  {
   "cell_type": "markdown",
   "metadata": {
    "slideshow": {
     "slide_type": "slide"
    }
   },
   "source": [
    "# Categorical ratings of a restaurant"
   ]
  },
  {
   "cell_type": "code",
   "execution_count": 69,
   "metadata": {
    "slideshow": {
     "slide_type": "fragment"
    }
   },
   "outputs": [
    {
     "name": "stdout",
     "output_type": "stream",
     "text": [
      "Restaurant: El Pollo Supremo\n",
      "Total # of reviews: 209\n",
      "Overall Average: 4.20574162679\n",
      "Service Average: 4.44444444444\n",
      "Food Average: 4.0652173913\n",
      "Pricing Average: 4.05714285714\n"
     ]
    }
   ],
   "source": [
    "getHiddenRatings(business_id='6C_8Mh4lmLc_QEs3hHleBg', df=df)"
   ]
  },
  {
   "cell_type": "code",
   "execution_count": 67,
   "metadata": {
    "scrolled": true,
    "slideshow": {
     "slide_type": "-"
    }
   },
   "outputs": [
    {
     "name": "stdout",
     "output_type": "stream",
     "text": [
      "Restaurant: Stacks & Yolks\n",
      "Total # of reviews: 660\n",
      "Overall Average: 3.25606060606\n",
      "Service Average: 3.5406162465\n",
      "Food Average: 2.46195652174\n",
      "Pricing Average: 4.05555555556\n"
     ]
    }
   ],
   "source": [
    "getHiddenRatings(business_id='Gt4z3AylNTsEPDkzkaC7HA', df=df)"
   ]
  },
  {
   "cell_type": "markdown",
   "metadata": {
    "slideshow": {
     "slide_type": "slide"
    }
   },
   "source": [
    "# Barriers we faced\n",
    " * Huge data - Even with Amazon Web Services, we faced limitations\n",
    " * Finding adequate clustering algorithms\n",
    " * Not enough time/manpower - Labeling, validating"
   ]
  },
  {
   "cell_type": "markdown",
   "metadata": {
    "slideshow": {
     "slide_type": "subslide"
    }
   },
   "source": [
    "### Word2Vec\n",
    "![alt text](images/w2v.png)"
   ]
  },
  {
   "cell_type": "code",
   "execution_count": 75,
   "metadata": {},
   "outputs": [
    {
     "data": {
      "text/plain": [
       "[(u'machaca', 0.7345311641693115),\n",
       " (u'posole', 0.7244584560394287),\n",
       " (u'pozole', 0.7185253500938416),\n",
       " (u'burro', 0.7165212631225586),\n",
       " (u'chimichanga', 0.7074536681175232),\n",
       " (u'filibertos', 0.7052419781684875),\n",
       " (u'queso', 0.7044840455055237),\n",
       " (u'carnitas', 0.7036306262016296),\n",
       " (u'sopes', 0.7010722160339355),\n",
       " (u'chimi', 0.6951133012771606)]"
      ]
     },
     "execution_count": 75,
     "metadata": {},
     "output_type": "execute_result"
    }
   ],
   "source": [
    "# (Ramen - Japanese) + Mexican = Mexican Food\n",
    "word2vec_model.wv.most_similar(positive=['ramen', 'mexican']\n",
    "                               , negative=['japanese'])"
   ]
  },
  {
   "cell_type": "markdown",
   "metadata": {
    "slideshow": {
     "slide_type": "slide"
    }
   },
   "source": [
    "# Thank You\n",
    "#### References\n",
    " * sklearn LDA example code \n",
    " http://scikit-learn.org/0.18/auto_examples/applications/topics_extraction_with_nmf_lda.html\n",
    " * Improving Restaurants by Extracting Subtopics from Yelp Reviews \n",
    " https://www.yelp.com/html/pdf/YelpDatasetChallengeWinner_ImprovingRestaurants.pdf\n",
    " * Yelp Dataset yelp dataset"
   ]
  },
  {
   "cell_type": "code",
   "execution_count": null,
   "metadata": {
    "collapsed": true
   },
   "outputs": [],
   "source": []
  }
 ],
 "metadata": {
  "celltoolbar": "Slideshow",
  "kernelspec": {
   "display_name": "Python 2",
   "language": "python",
   "name": "python2"
  },
  "language_info": {
   "codemirror_mode": {
    "name": "ipython",
    "version": 2
   },
   "file_extension": ".py",
   "mimetype": "text/x-python",
   "name": "python",
   "nbconvert_exporter": "python",
   "pygments_lexer": "ipython2",
   "version": "2.7.13"
  }
 },
 "nbformat": 4,
 "nbformat_minor": 2
}
